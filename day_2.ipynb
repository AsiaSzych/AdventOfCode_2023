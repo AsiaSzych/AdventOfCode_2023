{
 "cells": [
  {
   "cell_type": "code",
   "execution_count": 2,
   "metadata": {},
   "outputs": [],
   "source": [
    "import re"
   ]
  },
  {
   "cell_type": "code",
   "execution_count": 1,
   "metadata": {},
   "outputs": [],
   "source": [
    "with open('data_day2.txt') as f:\n",
    "    lines = f.readlines()"
   ]
  },
  {
   "attachments": {},
   "cell_type": "markdown",
   "metadata": {},
   "source": [
    "# Part 1"
   ]
  },
  {
   "cell_type": "code",
   "execution_count": 4,
   "metadata": {},
   "outputs": [],
   "source": [
    "limit_red = 12\n",
    "limit_green = 13\n",
    "limit_blue = 14"
   ]
  },
  {
   "cell_type": "code",
   "execution_count": 21,
   "metadata": {},
   "outputs": [
    {
     "data": {
      "text/plain": [
       "3059"
      ]
     },
     "execution_count": 21,
     "metadata": {},
     "output_type": "execute_result"
    }
   ],
   "source": [
    "valid_games = []\n",
    "for line in lines:\n",
    "    game_no = int(line.split(\":\")[0].replace(\"Game \", ''))\n",
    "    reds = re.findall(r'(\\d+) red', line)\n",
    "    greens = re.findall(r'(\\d+) green', line)\n",
    "    blues = re.findall(r'(\\d+) blue', line)\n",
    "    if all(int(red) <= limit_red for red in reds) and all(int(green) <= limit_green for green in greens) and all(int(blue) <= limit_blue for blue in blues):\n",
    "        valid_games.append(game_no)\n",
    "sum(valid_games)"
   ]
  },
  {
   "attachments": {},
   "cell_type": "markdown",
   "metadata": {},
   "source": [
    "# Part 2"
   ]
  },
  {
   "cell_type": "code",
   "execution_count": 26,
   "metadata": {},
   "outputs": [
    {
     "data": {
      "text/plain": [
       "65371"
      ]
     },
     "execution_count": 26,
     "metadata": {},
     "output_type": "execute_result"
    }
   ],
   "source": [
    "powers = []\n",
    "for line in lines:\n",
    "    reds = re.findall(r'(\\d+) red', line)\n",
    "    greens = re.findall(r'(\\d+) green', line)\n",
    "    blues = re.findall(r'(\\d+) blue', line)\n",
    "    max_red = max([int(x) for x in reds])\n",
    "    max_blue = max([int(x) for x in blues])\n",
    "    max_green = max([int(x) for x in greens])\n",
    "    power = max_red*max_blue*max_green\n",
    "    powers.append(power)\n",
    "sum(powers)"
   ]
  }
 ],
 "metadata": {
  "kernelspec": {
   "display_name": "Python 3",
   "language": "python",
   "name": "python3"
  },
  "language_info": {
   "codemirror_mode": {
    "name": "ipython",
    "version": 3
   },
   "file_extension": ".py",
   "mimetype": "text/x-python",
   "name": "python",
   "nbconvert_exporter": "python",
   "pygments_lexer": "ipython3",
   "version": "3.8.10"
  },
  "orig_nbformat": 4
 },
 "nbformat": 4,
 "nbformat_minor": 2
}
