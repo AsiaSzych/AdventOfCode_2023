{
 "cells": [
  {
   "cell_type": "code",
   "execution_count": 24,
   "metadata": {},
   "outputs": [],
   "source": [
    "from math import sqrt, ceil, floor"
   ]
  },
  {
   "cell_type": "code",
   "execution_count": 5,
   "metadata": {},
   "outputs": [],
   "source": [
    "with open('data_day6.txt') as f:\n",
    "    lines = f.readlines()\n",
    "lines = [line.replace(\"\\n\", \"\") for line in lines]"
   ]
  },
  {
   "attachments": {},
   "cell_type": "markdown",
   "metadata": {},
   "source": [
    "# Part 1"
   ]
  },
  {
   "cell_type": "code",
   "execution_count": 6,
   "metadata": {},
   "outputs": [
    {
     "data": {
      "text/plain": [
       "[45, 98, 83, 73]"
      ]
     },
     "execution_count": 6,
     "metadata": {},
     "output_type": "execute_result"
    }
   ],
   "source": [
    "times = [int(time) for time in lines[0].split(\":\")[1].split(\" \") if time != \"\"]\n",
    "distances = [int(dist) for dist in lines[1].split(\":\")[1].split(\" \") if dist != \"\"]\n",
    "times"
   ]
  },
  {
   "cell_type": "code",
   "execution_count": 7,
   "metadata": {},
   "outputs": [
    {
     "data": {
      "text/plain": [
       "1413720"
      ]
     },
     "execution_count": 7,
     "metadata": {},
     "output_type": "execute_result"
    }
   ],
   "source": [
    "counter = 1\n",
    "for i in range(len(times)):\n",
    "    max_time = times[i]\n",
    "    time_range = list(range(max_time+1))\n",
    "    time_distance = [(time,  time*(max_time-time)) for time in time_range]\n",
    "    valid_times = len([td for td in time_distance if td[1]>distances[i]])\n",
    "    counter = counter*valid_times\n",
    "counter"
   ]
  },
  {
   "attachments": {},
   "cell_type": "markdown",
   "metadata": {},
   "source": [
    "# Part 2"
   ]
  },
  {
   "cell_type": "code",
   "execution_count": 20,
   "metadata": {},
   "outputs": [
    {
     "data": {
      "text/plain": [
       "295173412781210"
      ]
     },
     "execution_count": 20,
     "metadata": {},
     "output_type": "execute_result"
    }
   ],
   "source": [
    "whole_time = int(lines[0].split(\":\")[1].replace(\" \", ''))\n",
    "big_dist = int(lines[1].split(\":\")[1].replace(\" \", ''))\n",
    "big_dist"
   ]
  },
  {
   "cell_type": "code",
   "execution_count": 29,
   "metadata": {},
   "outputs": [
    {
     "data": {
      "text/plain": [
       "30565288"
      ]
     },
     "execution_count": 29,
     "metadata": {},
     "output_type": "execute_result"
    }
   ],
   "source": [
    "# brutforce\n",
    "time_range = list(range(whole_time+1))\n",
    "time_distance = [(current_time,  current_time*(whole_time-current_time)) for current_time in time_range]\n",
    "valid_times = len([td for td in time_distance if td[1]>big_dist])\n",
    "valid_times"
   ]
  },
  {
   "attachments": {},
   "cell_type": "markdown",
   "metadata": {},
   "source": [
    "from this part: \"time_distance = (current_time,  current_time*(whole_time-current_time)) \" -> distance at time \"current time\":\n",
    "\n",
    "distance = -current_time**2 + current_time*whole_time\n",
    "\n",
    "0 = current_time**2  - current_time*whole_time + distance\n",
    "\n",
    "solve for \"current time\" as thats what we're looking for "
   ]
  },
  {
   "cell_type": "code",
   "execution_count": 30,
   "metadata": {},
   "outputs": [
    {
     "data": {
      "text/plain": [
       "30565288"
      ]
     },
     "execution_count": 30,
     "metadata": {},
     "output_type": "execute_result"
    }
   ],
   "source": [
    "# quadratic solution \n",
    "\n",
    "delta = sqrt(whole_time**2 - 4 * big_dist)\n",
    "first_cross_time = ceil((whole_time - delta) / 2) #first possibility to beat current record\n",
    "last_cross_time = floor((whole_time + delta) / 2) #last posiibility to beat current record\n",
    "last_cross_time - first_cross_time +1 #points between\n"
   ]
  }
 ],
 "metadata": {
  "kernelspec": {
   "display_name": "Python 3",
   "language": "python",
   "name": "python3"
  },
  "language_info": {
   "codemirror_mode": {
    "name": "ipython",
    "version": 3
   },
   "file_extension": ".py",
   "mimetype": "text/x-python",
   "name": "python",
   "nbconvert_exporter": "python",
   "pygments_lexer": "ipython3",
   "version": "3.8.10"
  },
  "orig_nbformat": 4
 },
 "nbformat": 4,
 "nbformat_minor": 2
}
