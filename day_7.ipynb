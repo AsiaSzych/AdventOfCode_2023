{
 "cells": [
  {
   "cell_type": "code",
   "execution_count": 140,
   "metadata": {},
   "outputs": [],
   "source": [
    "with open('data_day7.txt') as f:\n",
    "    lines = f.readlines()\n",
    "lines = [line.replace(\"\\n\", \"\") for line in lines]\n",
    "lines = [tuple(x.split(\" \")) for x in lines]\n",
    "lines = [(x[0], int(x[1])) for x in lines]"
   ]
  },
  {
   "cell_type": "code",
   "execution_count": 141,
   "metadata": {},
   "outputs": [],
   "source": [
    "content_to_type = {(5,): \"Five\", \n",
    "                   (1, 4): \"Four\", \n",
    "                   (2, 3): \"Full\", \n",
    "                   (1,1,3): \"Three\", \n",
    "                   (1, 2, 2): \"Pairs\", \n",
    "                   (1, 1, 1, 2): \"Two\", \n",
    "                   (1, 1, 1, 1, 1): \"High\"}\n",
    "custom_alphabet = \"AKQJT987654321\"\n",
    "order = dict(zip(custom_alphabet, range(len(custom_alphabet))))"
   ]
  },
  {
   "attachments": {},
   "cell_type": "markdown",
   "metadata": {},
   "source": [
    "# Part 1"
   ]
  },
  {
   "cell_type": "code",
   "execution_count": 142,
   "metadata": {},
   "outputs": [],
   "source": [
    "new_lines = []\n",
    "for line in lines:\n",
    "    chars = set(line[0])\n",
    "    chars = [line[0].count(char) for char in chars]\n",
    "    chars = tuple(sorted(chars))\n",
    "    line = (line[0], line[1], content_to_type[chars])\n",
    "    new_lines.append(line)"
   ]
  },
  {
   "cell_type": "code",
   "execution_count": 143,
   "metadata": {},
   "outputs": [],
   "source": [
    "all_sorted = []\n",
    "for value in content_to_type.values():\n",
    "    temp_list = [line for line in new_lines if line[2]==value]\n",
    "    temp_list = sorted(temp_list, key=lambda word: [order[c] for c in word[0]])\n",
    "    all_sorted = all_sorted + temp_list"
   ]
  },
  {
   "cell_type": "code",
   "execution_count": 144,
   "metadata": {},
   "outputs": [
    {
     "data": {
      "text/plain": [
       "248559379"
      ]
     },
     "execution_count": 144,
     "metadata": {},
     "output_type": "execute_result"
    }
   ],
   "source": [
    "cards_sum = 0\n",
    "for i in range(len(all_sorted)):\n",
    "    card_value = all_sorted[i][1]*(len(all_sorted)-i)\n",
    "    cards_sum = cards_sum + card_value\n",
    "cards_sum"
   ]
  },
  {
   "attachments": {},
   "cell_type": "markdown",
   "metadata": {},
   "source": [
    "# Part 2"
   ]
  },
  {
   "cell_type": "code",
   "execution_count": 145,
   "metadata": {},
   "outputs": [],
   "source": [
    "custom_alphabet = \"AKQT987654321J\"\n",
    "order = dict(zip(custom_alphabet, range(len(custom_alphabet))))"
   ]
  },
  {
   "cell_type": "code",
   "execution_count": 146,
   "metadata": {},
   "outputs": [],
   "source": [
    "new_lines = []\n",
    "for line in lines:\n",
    "    chars = set(line[0])\n",
    "    if 'J' in chars:\n",
    "        chars.remove('J')\n",
    "    chars = [line[0].count(char) for char in chars]\n",
    "    j_char = line[0].count('J')\n",
    "    chars = sorted(chars, reverse=True)\n",
    "    if chars:\n",
    "        chars[0] = chars[0]+j_char \n",
    "    else:\n",
    "        chars = [j_char]\n",
    "    chars = tuple(sorted(chars))\n",
    "    line = (line[0], line[1], content_to_type[chars])\n",
    "    new_lines.append(line)\n",
    "lines = new_lines"
   ]
  },
  {
   "cell_type": "code",
   "execution_count": 147,
   "metadata": {},
   "outputs": [],
   "source": [
    "all_sorted = []\n",
    "for value in content_to_type.values():\n",
    "    temp_list = [line for line in lines if line[2]==value]\n",
    "    temp_list = sorted(temp_list, key=lambda word: [order[c] for c in word[0]])\n",
    "    all_sorted = all_sorted + temp_list"
   ]
  },
  {
   "cell_type": "code",
   "execution_count": 148,
   "metadata": {},
   "outputs": [
    {
     "data": {
      "text/plain": [
       "249631254"
      ]
     },
     "execution_count": 148,
     "metadata": {},
     "output_type": "execute_result"
    }
   ],
   "source": [
    "cards_sum = 0\n",
    "for i in range(len(all_sorted)):\n",
    "    card_value = all_sorted[i][1]*(len(all_sorted)-i)\n",
    "    cards_sum = cards_sum + card_value\n",
    "cards_sum"
   ]
  }
 ],
 "metadata": {
  "kernelspec": {
   "display_name": "Python 3",
   "language": "python",
   "name": "python3"
  },
  "language_info": {
   "codemirror_mode": {
    "name": "ipython",
    "version": 3
   },
   "file_extension": ".py",
   "mimetype": "text/x-python",
   "name": "python",
   "nbconvert_exporter": "python",
   "pygments_lexer": "ipython3",
   "version": "3.8.10"
  },
  "orig_nbformat": 4
 },
 "nbformat": 4,
 "nbformat_minor": 2
}
