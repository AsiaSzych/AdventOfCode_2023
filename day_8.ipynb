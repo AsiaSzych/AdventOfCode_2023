{
 "cells": [
  {
   "cell_type": "code",
   "execution_count": 34,
   "metadata": {},
   "outputs": [],
   "source": [
    "import numpy as np"
   ]
  },
  {
   "cell_type": "code",
   "execution_count": 26,
   "metadata": {},
   "outputs": [],
   "source": [
    "with open('data_day8.txt') as f:\n",
    "    lines = f.readlines()\n",
    "lines = [line.replace(\"\\n\", \"\") for line in lines]\n",
    "instructions = lines[0]\n",
    "lines = [tuple(x.split(\" = \")) for x in lines[2:]]\n",
    "lines = {x[0]: (x[1][1:4], x[1][-4:-1]) for x in lines}"
   ]
  },
  {
   "attachments": {},
   "cell_type": "markdown",
   "metadata": {},
   "source": [
    "# Part 1"
   ]
  },
  {
   "cell_type": "code",
   "execution_count": 27,
   "metadata": {},
   "outputs": [],
   "source": [
    "start = 'AAA'\n",
    "end = 'ZZZ'\n",
    "instructions = instructions.replace('L', '0').replace('R', '1')"
   ]
  },
  {
   "cell_type": "code",
   "execution_count": 28,
   "metadata": {},
   "outputs": [
    {
     "data": {
      "text/plain": [
       "13019"
      ]
     },
     "execution_count": 28,
     "metadata": {},
     "output_type": "execute_result"
    }
   ],
   "source": [
    "found = False\n",
    "steps = 0\n",
    "while not found:\n",
    "    for i in instructions:\n",
    "        steps = steps + 1\n",
    "        get = lines[start][int(i)]\n",
    "        if get == end:\n",
    "            found = True\n",
    "            break\n",
    "        start = get\n",
    "steps"
   ]
  },
  {
   "attachments": {},
   "cell_type": "markdown",
   "metadata": {},
   "source": [
    "# Part 2"
   ]
  },
  {
   "cell_type": "code",
   "execution_count": 30,
   "metadata": {},
   "outputs": [],
   "source": [
    "start_nodes = [x for x in lines if x.endswith('A')]"
   ]
  },
  {
   "cell_type": "code",
   "execution_count": 31,
   "metadata": {},
   "outputs": [],
   "source": [
    "all_steps = []\n",
    "for start_node in start_nodes:\n",
    "    found = False\n",
    "    steps = 0\n",
    "    start = start_node\n",
    "    while not found:\n",
    "        for i in instructions:\n",
    "            steps = steps + 1\n",
    "            get = lines[start][int(i)]\n",
    "            if get.endswith('Z'):\n",
    "                found = True\n",
    "                break\n",
    "            start = get\n",
    "    all_steps.append(steps)"
   ]
  },
  {
   "cell_type": "code",
   "execution_count": 32,
   "metadata": {},
   "outputs": [
    {
     "data": {
      "text/plain": [
       "[16343, 11911, 20221, 21883, 13019, 19667]"
      ]
     },
     "execution_count": 32,
     "metadata": {},
     "output_type": "execute_result"
    }
   ],
   "source": [
    "all_steps"
   ]
  },
  {
   "cell_type": "code",
   "execution_count": 35,
   "metadata": {},
   "outputs": [
    {
     "data": {
      "text/plain": [
       "13524038372771"
      ]
     },
     "execution_count": 35,
     "metadata": {},
     "output_type": "execute_result"
    }
   ],
   "source": [
    "np.lcm.reduce(all_steps)"
   ]
  }
 ],
 "metadata": {
  "kernelspec": {
   "display_name": "Python 3",
   "language": "python",
   "name": "python3"
  },
  "language_info": {
   "codemirror_mode": {
    "name": "ipython",
    "version": 3
   },
   "file_extension": ".py",
   "mimetype": "text/x-python",
   "name": "python",
   "nbconvert_exporter": "python",
   "pygments_lexer": "ipython3",
   "version": "3.8.10"
  },
  "orig_nbformat": 4
 },
 "nbformat": 4,
 "nbformat_minor": 2
}
