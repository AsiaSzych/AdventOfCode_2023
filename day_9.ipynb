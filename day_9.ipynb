{
 "cells": [
  {
   "cell_type": "code",
   "execution_count": 1,
   "metadata": {},
   "outputs": [],
   "source": [
    "with open('data_day9.txt') as f:\n",
    "    lines = f.readlines()\n",
    "lines = [line.replace(\"\\n\", \"\") for line in lines]\n",
    "lines = [line.split(\" \") for line in lines]\n",
    "lines = [[int(x) for x in line] for  line in lines]"
   ]
  },
  {
   "attachments": {},
   "cell_type": "markdown",
   "metadata": {},
   "source": [
    "# Part 1"
   ]
  },
  {
   "cell_type": "code",
   "execution_count": 2,
   "metadata": {},
   "outputs": [
    {
     "data": {
      "text/plain": [
       "1934898178"
      ]
     },
     "execution_count": 2,
     "metadata": {},
     "output_type": "execute_result"
    }
   ],
   "source": [
    "predictions = []\n",
    "for line in lines:\n",
    "    base = [line]\n",
    "    current = line\n",
    "    while set(current) != {0}:\n",
    "        new = [current[i+1] - current[i] for i in range(len(current)-1)]\n",
    "        base.append(new)\n",
    "        current = new\n",
    "    for i in range(len(base)-1, -1, -1):\n",
    "        if i == len(base)-1:\n",
    "            append_no = 0\n",
    "        else:\n",
    "            append_no = base[i][-1] + base[i+1][-1]\n",
    "        base[i].append(append_no)\n",
    "    predictions.append(base[0][-1])\n",
    "sum(predictions)"
   ]
  },
  {
   "attachments": {},
   "cell_type": "markdown",
   "metadata": {},
   "source": [
    "# Part 2"
   ]
  },
  {
   "cell_type": "code",
   "execution_count": 3,
   "metadata": {},
   "outputs": [
    {
     "data": {
      "text/plain": [
       "1129"
      ]
     },
     "execution_count": 3,
     "metadata": {},
     "output_type": "execute_result"
    }
   ],
   "source": [
    "predictions = []\n",
    "for line in lines:\n",
    "    base = [line]\n",
    "    current = line\n",
    "    while set(current) != {0}:\n",
    "        new = [current[i+1] - current[i] for i in range(len(current)-1)]\n",
    "        base.append(new)\n",
    "        current = new\n",
    "    for i in range(len(base)-1, -1, -1):\n",
    "        if i == len(base)-1:\n",
    "            append_no = 0\n",
    "        else:\n",
    "            append_no = base[i][0] - base[i+1][0]\n",
    "        base[i] = [append_no] + base[i]\n",
    "    predictions.append(base[0][0])\n",
    "sum(predictions)"
   ]
  }
 ],
 "metadata": {
  "kernelspec": {
   "display_name": "Python 3",
   "language": "python",
   "name": "python3"
  },
  "language_info": {
   "codemirror_mode": {
    "name": "ipython",
    "version": 3
   },
   "file_extension": ".py",
   "mimetype": "text/x-python",
   "name": "python",
   "nbconvert_exporter": "python",
   "pygments_lexer": "ipython3",
   "version": "3.8.10"
  },
  "orig_nbformat": 4
 },
 "nbformat": 4,
 "nbformat_minor": 2
}
