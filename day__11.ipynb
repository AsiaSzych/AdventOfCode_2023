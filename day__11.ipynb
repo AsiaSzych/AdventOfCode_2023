{
 "cells": [
  {
   "cell_type": "code",
   "execution_count": 125,
   "metadata": {},
   "outputs": [],
   "source": [
    "with open('data_day11.txt') as f:\n",
    "    lines = f.readlines()\n",
    "lines = [line.replace(\"\\n\", \"\") for line in lines]"
   ]
  },
  {
   "cell_type": "code",
   "execution_count": 126,
   "metadata": {},
   "outputs": [],
   "source": [
    "points = []\n",
    "for i in range(len(lines)):\n",
    "    line = lines[i]\n",
    "    founds = [(i, j) for j in range(len(line)) if line[j]=='#']\n",
    "    points = points + founds"
   ]
  },
  {
   "cell_type": "code",
   "execution_count": 127,
   "metadata": {},
   "outputs": [],
   "source": [
    "empty_rows = [i for i in range(len(lines)) if lines[i].find(\"#\") == -1]\n",
    "empty_cols = []\n",
    "for i in range(len(lines[0])):\n",
    "    col = [line[i] for line in lines]\n",
    "    col = \"\".join(col)\n",
    "    if col.find(\"#\") == -1:\n",
    "        empty_cols.append(i)\n",
    "empty_cols = sorted(empty_cols, reverse=True)"
   ]
  },
  {
   "attachments": {},
   "cell_type": "markdown",
   "metadata": {},
   "source": [
    "# Part 1"
   ]
  },
  {
   "cell_type": "code",
   "execution_count": 128,
   "metadata": {},
   "outputs": [],
   "source": [
    "new_points = []\n",
    "for point in points:\n",
    "    y_move = [y for y in empty_cols if y < point[1]]\n",
    "    x_move = [x for x in empty_rows if x < point[0]]\n",
    "    new_point = (point[0]+len(x_move), point[1]+len(y_move))\n",
    "    new_points.append(new_point)"
   ]
  },
  {
   "cell_type": "code",
   "execution_count": 129,
   "metadata": {},
   "outputs": [
    {
     "data": {
      "text/plain": [
       "9805264"
      ]
     },
     "execution_count": 129,
     "metadata": {},
     "output_type": "execute_result"
    }
   ],
   "source": [
    "pairs = [(a, b) for idx, a in enumerate(new_points) for b in new_points[idx + 1:]]\n",
    "shortes_paths = [abs(pair[0][0] - pair[1][0]) + abs(pair[0][1] - pair[1][1]) for pair in pairs] \n",
    "sum(shortes_paths)"
   ]
  },
  {
   "attachments": {},
   "cell_type": "markdown",
   "metadata": {},
   "source": [
    "# Part 2"
   ]
  },
  {
   "cell_type": "code",
   "execution_count": 130,
   "metadata": {},
   "outputs": [],
   "source": [
    "new_points_v2 = []\n",
    "exp = 1000000-1\n",
    "for point in points:\n",
    "    y_move = [y for y in empty_cols if y < point[1]]\n",
    "    x_move = [x for x in empty_rows if x < point[0]]\n",
    "    new_point = (point[0]+exp*len(x_move), point[1]+exp*len(y_move))\n",
    "    new_points_v2.append(new_point)"
   ]
  },
  {
   "cell_type": "code",
   "execution_count": 131,
   "metadata": {},
   "outputs": [
    {
     "data": {
      "text/plain": [
       "779032247216"
      ]
     },
     "execution_count": 131,
     "metadata": {},
     "output_type": "execute_result"
    }
   ],
   "source": [
    "pairs = [(a, b) for idx, a in enumerate(new_points_v2) for b in new_points_v2[idx + 1:]]\n",
    "shortes_paths = [abs(pair[0][0] - pair[1][0]) + abs(pair[0][1] - pair[1][1]) for pair in pairs] \n",
    "sum(shortes_paths)"
   ]
  }
 ],
 "metadata": {
  "kernelspec": {
   "display_name": "Python 3",
   "language": "python",
   "name": "python3"
  },
  "language_info": {
   "codemirror_mode": {
    "name": "ipython",
    "version": 3
   },
   "file_extension": ".py",
   "mimetype": "text/x-python",
   "name": "python",
   "nbconvert_exporter": "python",
   "pygments_lexer": "ipython3",
   "version": "3.8.10"
  },
  "orig_nbformat": 4
 },
 "nbformat": 4,
 "nbformat_minor": 2
}
