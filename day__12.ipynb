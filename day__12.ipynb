{
 "cells": [
  {
   "attachments": {},
   "cell_type": "markdown",
   "metadata": {},
   "source": [
    "Refreshing the knowledge on recursion with tutorial to this task https://www.reddit.com/r/adventofcode/comments/18hbbxe/2023_day_12python_stepbystep_tutorial_with_bonus/"
   ]
  },
  {
   "cell_type": "code",
   "execution_count": 1,
   "metadata": {},
   "outputs": [],
   "source": [
    "import functools"
   ]
  },
  {
   "cell_type": "code",
   "execution_count": 2,
   "metadata": {},
   "outputs": [],
   "source": [
    "with open('data_day12.txt') as f:\n",
    "    lines = f.readlines()\n",
    "lines = [line.replace(\"\\n\", \"\") for line in lines]\n"
   ]
  },
  {
   "cell_type": "code",
   "execution_count": 3,
   "metadata": {},
   "outputs": [],
   "source": [
    "def damaged_start(row , groups, checked_group_len):\n",
    "\n",
    "    #taking a substring of checked group length and assume all unknown parts are damaged\n",
    "    current_group = row[:checked_group_len].replace('?', '#')\n",
    "\n",
    "    #not enough damage part in group to make it work\n",
    "    if current_group.count('#') != checked_group_len:\n",
    "        return 0\n",
    "    \n",
    "    # last group/parts conditions\n",
    "    if len(row) == checked_group_len:\n",
    "        if len(groups) == 1:\n",
    "            # everything works we can exit with one new possibility \n",
    "            return 1    \n",
    "        else:\n",
    "            # there's more groups and no more parts - exit with 0 possibilities\n",
    "            return 0\n",
    "    \n",
    "    #checking if next sign after a damage group is not damaged \n",
    "    if row[checked_group_len] == '?' or row[checked_group_len] == '.':\n",
    "        return calculate_arragements(row[checked_group_len+1:], groups[1:])\n",
    "    \n",
    "    # if next sign after a damage group is not damaged then condition doesn't work - exit with 0 possibilities\n",
    "    return 0 "
   ]
  },
  {
   "cell_type": "code",
   "execution_count": 4,
   "metadata": {},
   "outputs": [],
   "source": [
    "@functools.lru_cache(maxsize=None)\n",
    "def calculate_arragements(springs_row, groups):\n",
    "\n",
    "    if not groups:\n",
    "        if \"#\" not in springs_row:\n",
    "            return 1\n",
    "        else: \n",
    "            return 0\n",
    "    if not springs_row:\n",
    "        return 0\n",
    "    \n",
    "    current_spring = springs_row[0]\n",
    "    current_group = groups[0]\n",
    "\n",
    "    # operational - doesm't change anything in groups, we call the function on shorter string\n",
    "    if current_spring == '.':\n",
    "        possibilities = calculate_arragements(springs_row[1:], groups)\n",
    "    \n",
    "    #damaged\n",
    "    elif current_spring == '#':\n",
    "        possibilities = damaged_start(springs_row, groups, current_group)\n",
    "    \n",
    "    #unknown - both paths\n",
    "    elif current_spring == \"?\":\n",
    "        possibilities = damaged_start(springs_row, groups, current_group) + calculate_arragements(springs_row[1:], groups)\n",
    "\n",
    "\n",
    "    return possibilities"
   ]
  },
  {
   "attachments": {},
   "cell_type": "markdown",
   "metadata": {},
   "source": [
    "# Part 1"
   ]
  },
  {
   "cell_type": "code",
   "execution_count": 5,
   "metadata": {},
   "outputs": [],
   "source": [
    "lines = [(line.split(\" \")[0], line.split(\" \")[1].split(',')) for line in lines]\n",
    "correct_lines = []\n",
    "for line in lines:\n",
    "    new = [int(i) for i in line[1]]\n",
    "    correct_lines.append((line[0], new))"
   ]
  },
  {
   "cell_type": "code",
   "execution_count": 6,
   "metadata": {},
   "outputs": [],
   "source": [
    "all_possibilities = 0\n",
    "for line in correct_lines:\n",
    "    all_possibilities = all_possibilities+calculate_arragements(line[0], tuple(line[1]))"
   ]
  },
  {
   "cell_type": "code",
   "execution_count": 7,
   "metadata": {},
   "outputs": [
    {
     "data": {
      "text/plain": [
       "6949"
      ]
     },
     "execution_count": 7,
     "metadata": {},
     "output_type": "execute_result"
    }
   ],
   "source": [
    "all_possibilities"
   ]
  },
  {
   "attachments": {},
   "cell_type": "markdown",
   "metadata": {},
   "source": [
    "# Part 2"
   ]
  },
  {
   "cell_type": "code",
   "execution_count": 8,
   "metadata": {},
   "outputs": [],
   "source": [
    "lines\n",
    "correct_lines_v2 = []\n",
    "for line in lines:\n",
    "    new_string = (line[0] + \"?\")*5\n",
    "    new_groups = [int(i) for i in line[1]]*5\n",
    "    correct_lines_v2.append((new_string[:-1], new_groups))"
   ]
  },
  {
   "cell_type": "code",
   "execution_count": 9,
   "metadata": {},
   "outputs": [],
   "source": [
    "all_possibilities_v2 = 0\n",
    "for line in correct_lines_v2:\n",
    "    all_possibilities_v2 = all_possibilities_v2+calculate_arragements(line[0], tuple(line[1]))"
   ]
  },
  {
   "cell_type": "code",
   "execution_count": 10,
   "metadata": {},
   "outputs": [
    {
     "data": {
      "text/plain": [
       "51456609952403"
      ]
     },
     "execution_count": 10,
     "metadata": {},
     "output_type": "execute_result"
    }
   ],
   "source": [
    "all_possibilities_v2"
   ]
  }
 ],
 "metadata": {
  "kernelspec": {
   "display_name": "Python 3",
   "language": "python",
   "name": "python3"
  },
  "language_info": {
   "codemirror_mode": {
    "name": "ipython",
    "version": 3
   },
   "file_extension": ".py",
   "mimetype": "text/x-python",
   "name": "python",
   "nbconvert_exporter": "python",
   "pygments_lexer": "ipython3",
   "version": "3.8.10"
  },
  "orig_nbformat": 4
 },
 "nbformat": 4,
 "nbformat_minor": 2
}
