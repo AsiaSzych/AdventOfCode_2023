{
 "cells": [
  {
   "attachments": {},
   "cell_type": "markdown",
   "metadata": {},
   "source": [
    "Lerning new zip function posiibilities with https://advent-of-code.xavd.id/writeups/2023/day/13/"
   ]
  },
  {
   "cell_type": "code",
   "execution_count": 1,
   "metadata": {},
   "outputs": [],
   "source": [
    "with open('data_day13.txt') as f:\n",
    "    lines = f.readlines()\n",
    "i = 0\n",
    "correct_structures = {}\n",
    "current_str = []\n",
    "for line in lines:\n",
    "    if line != '\\n':\n",
    "        current_str.append(line.replace(\"\\n\", ''))\n",
    "    else:\n",
    "        correct_structures[i] = current_str\n",
    "        current_str = []\n",
    "        i = i+1\n",
    "correct_structures[i] = current_str"
   ]
  },
  {
   "attachments": {},
   "cell_type": "markdown",
   "metadata": {},
   "source": [
    "# Part 1"
   ]
  },
  {
   "cell_type": "code",
   "execution_count": 2,
   "metadata": {},
   "outputs": [],
   "source": [
    "def find_mirror_line(lines):\n",
    "    for i in range(1, len(lines)):\n",
    "        top = reversed(lines[:i])\n",
    "        bottom = lines[i:]\n",
    "        if all(t==b for t, b in zip(top, bottom)):\n",
    "            return i \n",
    "    return 0"
   ]
  },
  {
   "cell_type": "code",
   "execution_count": 3,
   "metadata": {},
   "outputs": [],
   "source": [
    "scores = []\n",
    "for st in correct_structures.keys():\n",
    "    structure = correct_structures[st]\n",
    "    h_id = find_mirror_line(structure)\n",
    "    structure = list(zip(*structure))\n",
    "    v_id = find_mirror_line(structure)\n",
    "    scores.append(h_id*100+v_id)\n",
    "    "
   ]
  },
  {
   "cell_type": "code",
   "execution_count": 4,
   "metadata": {},
   "outputs": [
    {
     "data": {
      "text/plain": [
       "31956"
      ]
     },
     "execution_count": 4,
     "metadata": {},
     "output_type": "execute_result"
    }
   ],
   "source": [
    "sum(scores)"
   ]
  },
  {
   "attachments": {},
   "cell_type": "markdown",
   "metadata": {},
   "source": [
    "# Part 2"
   ]
  },
  {
   "cell_type": "code",
   "execution_count": 5,
   "metadata": {},
   "outputs": [],
   "source": [
    "def find_smudged_mirror_line(lines):\n",
    "    for i in range(1, len(lines)):\n",
    "        top = reversed(lines[:i])\n",
    "        bottom = lines[i:]\n",
    "        diff_sum = 0\n",
    "        for t, b in zip(top, bottom):\n",
    "            diff_sum = diff_sum + sum(a!=b for a, b in zip(t,b))\n",
    "        if diff_sum == 1:\n",
    "            return i \n",
    "    return 0"
   ]
  },
  {
   "cell_type": "code",
   "execution_count": 6,
   "metadata": {},
   "outputs": [],
   "source": [
    "scores = []\n",
    "for st in correct_structures.keys():\n",
    "    structure = correct_structures[st]\n",
    "    h_id = find_smudged_mirror_line(structure)\n",
    "    structure = list(zip(*structure))\n",
    "    v_id = find_smudged_mirror_line(structure)\n",
    "    scores.append(h_id*100+v_id)\n",
    "    "
   ]
  },
  {
   "cell_type": "code",
   "execution_count": 7,
   "metadata": {},
   "outputs": [
    {
     "data": {
      "text/plain": [
       "37617"
      ]
     },
     "execution_count": 7,
     "metadata": {},
     "output_type": "execute_result"
    }
   ],
   "source": [
    "sum(scores)"
   ]
  }
 ],
 "metadata": {
  "kernelspec": {
   "display_name": "Python 3",
   "language": "python",
   "name": "python3"
  },
  "language_info": {
   "codemirror_mode": {
    "name": "ipython",
    "version": 3
   },
   "file_extension": ".py",
   "mimetype": "text/x-python",
   "name": "python",
   "nbconvert_exporter": "python",
   "pygments_lexer": "ipython3",
   "version": "3.8.10"
  },
  "orig_nbformat": 4
 },
 "nbformat": 4,
 "nbformat_minor": 2
}
