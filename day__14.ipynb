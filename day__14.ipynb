{
 "cells": [
  {
   "cell_type": "code",
   "execution_count": 12,
   "metadata": {},
   "outputs": [],
   "source": [
    "with open('data_day14.txt') as f:\n",
    "    lines = f.readlines()\n",
    "org_lines = [line.replace(\"\\n\", '') for line in lines]"
   ]
  },
  {
   "cell_type": "code",
   "execution_count": 13,
   "metadata": {},
   "outputs": [],
   "source": [
    "def move_lines(lines):\n",
    "    for line in lines:\n",
    "        rolling_rocks =[i for i in range(len(line)-1, -1 , -1) if line[i]=='O']\n",
    "        str_line = \"\".join(line)\n",
    "\n",
    "        for roll in rolling_rocks:\n",
    "            first_empty = -1 \n",
    "            if str_line[roll:].find(\"O#\") == 0:\n",
    "                continue \n",
    "            first_stop = str_line[roll:].find(\"#\") \n",
    "            first_stop = first_stop+roll+1 if first_stop!=-1 else len(str_line)\n",
    "            if str_line[roll:first_stop].find(\".#\") != -1:\n",
    "                first_empty = str_line[roll:].find(\".#\") +roll \n",
    "            elif str_line[roll:first_stop].find(\".O\") != -1:\n",
    "                first_empty =  str_line[roll:].find(\".O\")+ roll\n",
    "            elif first_stop == len(str_line) and str_line[-1] == '.':\n",
    "                first_empty = len(str_line)-1\n",
    "            if first_empty!= -1:\n",
    "                line[roll] = '.'\n",
    "                line[first_empty] = 'O'\n",
    "                str_line = \"\".join(line)\n",
    "    return lines"
   ]
  },
  {
   "attachments": {},
   "cell_type": "markdown",
   "metadata": {},
   "source": [
    "# Part 1"
   ]
  },
  {
   "cell_type": "code",
   "execution_count": 14,
   "metadata": {},
   "outputs": [],
   "source": [
    "lines = list(zip(*reversed(org_lines)))\n",
    "lines = [list(line) for line in lines]\n",
    "lines = move_lines(lines)"
   ]
  },
  {
   "cell_type": "code",
   "execution_count": 15,
   "metadata": {},
   "outputs": [],
   "source": [
    "lines = list(zip(*lines))\n",
    "lines = [\"\".join(list(line)) for line in lines]"
   ]
  },
  {
   "cell_type": "code",
   "execution_count": 16,
   "metadata": {},
   "outputs": [
    {
     "data": {
      "text/plain": [
       "106648"
      ]
     },
     "execution_count": 16,
     "metadata": {},
     "output_type": "execute_result"
    }
   ],
   "source": [
    "sum = 0\n",
    "for i in range(len(lines)):\n",
    "    count = lines[i].count('O')\n",
    "    part_sum = count*(i+1)\n",
    "    sum = sum + part_sum\n",
    "sum"
   ]
  },
  {
   "attachments": {},
   "cell_type": "markdown",
   "metadata": {},
   "source": [
    "# Part 2"
   ]
  },
  {
   "cell_type": "code",
   "execution_count": 17,
   "metadata": {},
   "outputs": [],
   "source": [
    "def cycle(how_many, seen_states, lines, final):\n",
    "    for i in range(how_many):\n",
    "        #\"NORTH\"\n",
    "        lines = zip(*reversed(lines))\n",
    "        lines = [list(line) for line in lines]\n",
    "        lines = move_lines(lines)\n",
    "        lines = reversed(list(zip(*lines)))\n",
    "\n",
    "        #WEST\n",
    "        lines = [list(reversed(line)) for line in lines]\n",
    "        lines = move_lines(lines)\n",
    "        lines = [list(reversed(line)) for line in lines]\n",
    "\n",
    "        \"SOUTH\"\n",
    "        lines = zip(*lines)\n",
    "        lines = [list(line) for line in lines]\n",
    "        # lines\n",
    "        lines = move_lines(lines)\n",
    "        lines = zip(*lines)\n",
    "\n",
    "        #EAST\n",
    "        lines = [list(line) for line in lines]\n",
    "        lines = move_lines(lines)\n",
    "        if lines not in seen_states:\n",
    "            seen_states.append(lines)\n",
    "        else:\n",
    "            if not final:\n",
    "                break\n",
    "    return lines, seen_states"
   ]
  },
  {
   "cell_type": "code",
   "execution_count": 18,
   "metadata": {},
   "outputs": [],
   "source": [
    "lines = org_lines\n",
    "lines, seen_states = cycle(1000000000, [], lines, False)"
   ]
  },
  {
   "cell_type": "code",
   "execution_count": 19,
   "metadata": {},
   "outputs": [
    {
     "data": {
      "text/plain": [
       "64"
      ]
     },
     "execution_count": 19,
     "metadata": {},
     "output_type": "execute_result"
    }
   ],
   "source": [
    "cycle_steps = len(seen_states)\n",
    "full_cycles = int(1000000000/cycle_steps)\n",
    "remaining_cycles = 1000000000 - (full_cycles*cycle_steps)\n",
    "remaining_cycles"
   ]
  },
  {
   "cell_type": "code",
   "execution_count": 20,
   "metadata": {},
   "outputs": [],
   "source": [
    "lines = org_lines\n",
    "lines, _ = cycle(cycle_steps+remaining_cycles, [], lines, True)"
   ]
  },
  {
   "cell_type": "code",
   "execution_count": 21,
   "metadata": {},
   "outputs": [],
   "source": [
    "lines = list(reversed(lines))"
   ]
  },
  {
   "cell_type": "code",
   "execution_count": 22,
   "metadata": {},
   "outputs": [
    {
     "data": {
      "text/plain": [
       "87700"
      ]
     },
     "execution_count": 22,
     "metadata": {},
     "output_type": "execute_result"
    }
   ],
   "source": [
    "sum = 0\n",
    "for i in range(len(lines)):\n",
    "    count = lines[i].count('O')\n",
    "    part_sum = count*(i+1)\n",
    "    sum = sum + part_sum\n",
    "sum"
   ]
  }
 ],
 "metadata": {
  "kernelspec": {
   "display_name": "Python 3",
   "language": "python",
   "name": "python3"
  },
  "language_info": {
   "codemirror_mode": {
    "name": "ipython",
    "version": 3
   },
   "file_extension": ".py",
   "mimetype": "text/x-python",
   "name": "python",
   "nbconvert_exporter": "python",
   "pygments_lexer": "ipython3",
   "version": "3.8.10"
  },
  "orig_nbformat": 4
 },
 "nbformat": 4,
 "nbformat_minor": 2
}
