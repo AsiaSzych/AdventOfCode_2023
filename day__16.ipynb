{
 "cells": [
  {
   "cell_type": "code",
   "execution_count": 1,
   "metadata": {},
   "outputs": [],
   "source": [
    "with open('data_day16.txt') as f:\n",
    "    lines = f.readlines()\n",
    "lines = [line.replace(\"\\n\", '') for line in lines]"
   ]
  },
  {
   "cell_type": "code",
   "execution_count": 2,
   "metadata": {},
   "outputs": [],
   "source": [
    "size = len(lines[0])"
   ]
  },
  {
   "cell_type": "code",
   "execution_count": 3,
   "metadata": {},
   "outputs": [],
   "source": [
    "# (x, y)\n",
    "# (-1, 0) = ^^^ up\n",
    "# (1, 0) == vvv down\n",
    "# (0, 1) = >>> right\n",
    "# (0, -1) = <<< left\n",
    "\n",
    "direction_dict = {\n",
    "    '|': {\n",
    "        (-1, 0):[(-1, 0)],\n",
    "        (1, 0): [(1, 0)],\n",
    "        (0, 1): [(1, 0), (-1, 0)], \n",
    "        (0, -1): [(1, 0), (-1, 0)]\n",
    "    },\n",
    "    \"-\":{\n",
    "        (-1, 0):[(0, 1), (0, -1)],\n",
    "        (1, 0): [(0, 1), (0, -1)],\n",
    "        (0, 1): [(0, 1)], \n",
    "        (0, -1): [(0, -1)]\n",
    "    }, \n",
    "    \"\\\\\":{\n",
    "        (-1, 0):[(0, -1)],\n",
    "        (1, 0): [(0, 1)],\n",
    "        (0, 1): [(1, 0)], \n",
    "        (0, -1): [(-1, 0)]\n",
    "    }, \n",
    "    \"/\":{\n",
    "        (-1, 0):[(0, 1)],\n",
    "        (1, 0): [(0, -1)],\n",
    "        (0, 1): [(-1, 0)], \n",
    "        (0, -1): [(1, 0)]\n",
    "    }, \n",
    "    \".\":{\n",
    "        (-1, 0):[(-1, 0)],\n",
    "        (1, 0): [(1, 0)],\n",
    "        (0, 1): [(0, 1)], \n",
    "        (0, -1): [(0, -1)]\n",
    "    }, \n",
    "}\n"
   ]
  },
  {
   "cell_type": "code",
   "execution_count": 4,
   "metadata": {},
   "outputs": [],
   "source": [
    "def calculate_point(loc, move, table):\n",
    "    move_point = tuple(map(lambda i, j: i + j, loc, move))\n",
    "    if move_point[0] < 0 or move_point[0] >= len(table):\n",
    "        return loc \n",
    "    elif move_point[1] < 0 or move_point[1] >= len(table[0]):\n",
    "        return loc\n",
    "    else:\n",
    "        return move_point\n",
    "    "
   ]
  },
  {
   "cell_type": "code",
   "execution_count": 5,
   "metadata": {},
   "outputs": [],
   "source": [
    "def move(current_point, current_dir):\n",
    "    next_point = calculate_point(current_point, current_dir, lines)\n",
    "    if next_point == current_point:\n",
    "        return current_point, [current_dir]\n",
    "    next_elem = lines[next_point[0]][next_point[1]]\n",
    "    possible_dir = direction_dict[next_elem][current_dir]\n",
    "    return next_point, possible_dir"
   ]
  },
  {
   "attachments": {},
   "cell_type": "markdown",
   "metadata": {},
   "source": [
    "# Part 1"
   ]
  },
  {
   "cell_type": "code",
   "execution_count": 6,
   "metadata": {},
   "outputs": [],
   "source": [
    "current_point = (0, 0)\n",
    "start_dir = (0, 1)\n",
    "subbeam_starts = []\n",
    "#First move\n",
    "current_dir = direction_dict[lines[current_point[0]][current_point[1]]][start_dir][0]"
   ]
  },
  {
   "cell_type": "code",
   "execution_count": 7,
   "metadata": {},
   "outputs": [],
   "source": [
    "def beam_moves(current_point, current_dir, visited_points):\n",
    "    global subbeam_starts\n",
    "    while True: \n",
    "        next_point, next_dirs = move(current_point, current_dir)\n",
    "        if (next_point, next_dirs) in visited_points:\n",
    "            break\n",
    "        else:\n",
    "            visited_points.append((next_point, next_dirs))\n",
    "    \n",
    "\n",
    "        if len(next_dirs) == 1:\n",
    "            current_point = next_point\n",
    "            current_dir = next_dirs[0]\n",
    "        elif len(next_dirs) == 2:\n",
    "            if (current_point, current_dir) not in subbeam_starts:\n",
    "                subbeam_starts.append((current_point, current_dir))\n",
    "                visited_points = visited_points + beam_moves(next_point,  next_dirs[1], [])\n",
    "                current_point = next_point\n",
    "                current_dir = next_dirs[0]\n",
    "            else:\n",
    "                break\n",
    "\n",
    "\n",
    "    return visited_points\n",
    "        \n"
   ]
  },
  {
   "cell_type": "code",
   "execution_count": 8,
   "metadata": {},
   "outputs": [],
   "source": [
    "visited_points = beam_moves(current_point, current_dir, [(current_point, current_dir)])"
   ]
  },
  {
   "cell_type": "code",
   "execution_count": 9,
   "metadata": {},
   "outputs": [
    {
     "data": {
      "text/plain": [
       "8125"
      ]
     },
     "execution_count": 9,
     "metadata": {},
     "output_type": "execute_result"
    }
   ],
   "source": [
    "actual_visited_points = set([x[0] for x in visited_points])\n",
    "len(actual_visited_points)"
   ]
  },
  {
   "cell_type": "code",
   "execution_count": 10,
   "metadata": {},
   "outputs": [],
   "source": [
    "image = []\n",
    "for x in range(size):\n",
    "    image_line = []\n",
    "    for y in range(size):\n",
    "        if (x, y) in actual_visited_points:\n",
    "            image_line.append(\"#\")\n",
    "        else:\n",
    "            image_line.append(\".\")\n",
    "    image_line = \"\".join(image_line)\n",
    "    image.append(image_line)"
   ]
  },
  {
   "cell_type": "code",
   "execution_count": 11,
   "metadata": {},
   "outputs": [],
   "source": [
    "# for line in image:\n",
    "#     print(line)"
   ]
  },
  {
   "attachments": {},
   "cell_type": "markdown",
   "metadata": {},
   "source": [
    "# Part 2"
   ]
  },
  {
   "cell_type": "code",
   "execution_count": 12,
   "metadata": {},
   "outputs": [],
   "source": [
    "starts_up= [(0, x) for x in range(len(lines[0]))]\n",
    "starts_down = [(len(lines[0])-1, x) for x in range(len(lines[0]))]\n",
    "starts_right = [(x,0) for x in range(len(lines))]\n",
    "starts_left = [(x,len(lines)-1) for x in range(len(lines))]"
   ]
  },
  {
   "cell_type": "code",
   "execution_count": 13,
   "metadata": {},
   "outputs": [],
   "source": [
    "starts_up = [[up, direction_dict[lines[up[0]][up[1]]][(1,0)]] for up in starts_up]\n",
    "starts_down = [[down, direction_dict[lines[down[0]][down[1]]][(-1,0)]] for down in starts_down]\n",
    "starts_right = [[right, direction_dict[lines[right[0]][right[1]]][(0,1)]] for right in starts_right]\n",
    "starts_left = [[left, direction_dict[lines[left[0]][left[1]]][(0,-1)]] for left in starts_left]"
   ]
  },
  {
   "cell_type": "code",
   "execution_count": 14,
   "metadata": {},
   "outputs": [
    {
     "data": {
      "text/plain": [
       "456"
      ]
     },
     "execution_count": 14,
     "metadata": {},
     "output_type": "execute_result"
    }
   ],
   "source": [
    "starts = starts_up+starts_down+starts_left+starts_right\n",
    "all_starts = []\n",
    "for start in starts:\n",
    "    for x in range(len(start[1])):\n",
    "        all_starts.append((start[0], start[1][x]))\n",
    "len(all_starts)"
   ]
  },
  {
   "cell_type": "code",
   "execution_count": 15,
   "metadata": {},
   "outputs": [],
   "source": [
    "all_beams = []\n",
    "for current_point, current_dir in all_starts:\n",
    "    subbeam_starts = []\n",
    "    visited_points = beam_moves(current_point, current_dir, [(current_point, current_dir)])\n",
    "    actual_visited_points = set([x[0] for x in visited_points])\n",
    "    all_beams.append(len(actual_visited_points))\n",
    "    "
   ]
  },
  {
   "cell_type": "code",
   "execution_count": 18,
   "metadata": {},
   "outputs": [
    {
     "data": {
      "text/plain": [
       "8489"
      ]
     },
     "execution_count": 18,
     "metadata": {},
     "output_type": "execute_result"
    }
   ],
   "source": [
    "max(all_beams)\n",
    "# powinno wyjść 8489"
   ]
  }
 ],
 "metadata": {
  "kernelspec": {
   "display_name": "Python 3",
   "language": "python",
   "name": "python3"
  },
  "language_info": {
   "codemirror_mode": {
    "name": "ipython",
    "version": 3
   },
   "file_extension": ".py",
   "mimetype": "text/x-python",
   "name": "python",
   "nbconvert_exporter": "python",
   "pygments_lexer": "ipython3",
   "version": "3.8.10"
  },
  "orig_nbformat": 4
 },
 "nbformat": 4,
 "nbformat_minor": 2
}
