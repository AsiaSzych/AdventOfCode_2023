{
 "cells": [
  {
   "cell_type": "code",
   "execution_count": 172,
   "metadata": {},
   "outputs": [],
   "source": [
    "with open('data_day18.txt') as f:\n",
    "    lines = f.readlines()\n",
    "lines = [line.replace(\"\\n\", '').split(\" \") for line in lines]"
   ]
  },
  {
   "cell_type": "code",
   "execution_count": 173,
   "metadata": {},
   "outputs": [],
   "source": [
    "def shoelace(vertices):\n",
    "  numberOfVertices = len(vertices)\n",
    "  sum1 = 0\n",
    "  sum2 = 0\n",
    "  \n",
    "  for i in range(0,numberOfVertices-1):\n",
    "    sum1 = sum1 + vertices[i][0] *  vertices[i+1][1]\n",
    "    sum2 = sum2 + vertices[i][1] *  vertices[i+1][0]\n",
    "  \n",
    "  #Add xn.y1\n",
    "  sum1 = sum1 + vertices[numberOfVertices-1][0]*vertices[0][1]   \n",
    "  #Add x1.yn\n",
    "  sum2 = sum2 + vertices[0][0]*vertices[numberOfVertices-1][1]   \n",
    "  \n",
    "  area = abs(sum1 - sum2) / 2\n",
    "  return area"
   ]
  },
  {
   "cell_type": "code",
   "execution_count": 174,
   "metadata": {},
   "outputs": [],
   "source": [
    "def pick(area, boundary):\n",
    "    inside = area +1 - boundary/2\n",
    "    return inside"
   ]
  },
  {
   "attachments": {},
   "cell_type": "markdown",
   "metadata": {},
   "source": [
    "## Part 1"
   ]
  },
  {
   "cell_type": "code",
   "execution_count": 175,
   "metadata": {},
   "outputs": [],
   "source": [
    "start = (0, 0) # x, y\n",
    "directions = {'U': (-1, 0), \n",
    "              'D': (1, 0), \n",
    "              'L': (0, -1), \n",
    "              'R': (0, 1)\n",
    "              }"
   ]
  },
  {
   "cell_type": "code",
   "execution_count": 176,
   "metadata": {},
   "outputs": [],
   "source": [
    "all_points = [start]\n",
    "coordinates = [start]\n",
    "current_point = start\n",
    "for line in lines:\n",
    "    dir = directions[line[0]]\n",
    "    counter = int(line[1])\n",
    "    new_edge = (current_point[0]+counter*dir[0], current_point[1]+counter*dir[1])\n",
    "    if new_edge not in coordinates:\n",
    "        coordinates.append(new_edge)\n",
    "    for i in range(counter):\n",
    "        new_point = (current_point[0]+dir[0], current_point[1]+dir[1])\n",
    "        if new_point not in all_points:\n",
    "            all_points.append(new_point)\n",
    "        current_point = new_point"
   ]
  },
  {
   "cell_type": "code",
   "execution_count": 177,
   "metadata": {},
   "outputs": [],
   "source": [
    "## Drawing \n",
    "\n",
    "# all_tiles = []\n",
    "# y = [point[1] for point in all_points]\n",
    "# x = [point[0] for point in all_points]\n",
    "# max_x  = max(x)\n",
    "# min_x = min(x)\n",
    "# min_y = min(y)\n",
    "# max_y = max(y)\n",
    "# for l in range(min_x, max_x+1):\n",
    "#     line_view = \"\"\n",
    "#     for j in range(min_y, max_y+1):\n",
    "#         if (l, j) in all_points:\n",
    "#             line_view = line_view+\"#\"\n",
    "#         else:\n",
    "#             line_view = line_view+\".\"\n",
    "    # print(line_view)"
   ]
  },
  {
   "cell_type": "code",
   "execution_count": 178,
   "metadata": {},
   "outputs": [],
   "source": [
    "area = shoelace(coordinates)"
   ]
  },
  {
   "cell_type": "code",
   "execution_count": 179,
   "metadata": {},
   "outputs": [
    {
     "data": {
      "text/plain": [
       "106459.0"
      ]
     },
     "execution_count": 179,
     "metadata": {},
     "output_type": "execute_result"
    }
   ],
   "source": [
    "points  = len(all_points) + pick(area, len(all_points))\n",
    "points"
   ]
  },
  {
   "attachments": {},
   "cell_type": "markdown",
   "metadata": {},
   "source": [
    "## Part 2"
   ]
  },
  {
   "cell_type": "code",
   "execution_count": 180,
   "metadata": {},
   "outputs": [],
   "source": [
    "lines = [line[2].replace(\"(\", '').replace(\")\", '').replace(\"#\", '') for line in lines]"
   ]
  },
  {
   "cell_type": "code",
   "execution_count": 181,
   "metadata": {},
   "outputs": [],
   "source": [
    "lines = [[line[-1], int(line[:-1], 16)] for line in lines]"
   ]
  },
  {
   "cell_type": "code",
   "execution_count": 182,
   "metadata": {},
   "outputs": [],
   "source": [
    "start = (0, 0) # x, y\n",
    "directions = {'3': (-1, 0), \n",
    "              '1': (1, 0), \n",
    "              '2': (0, -1), \n",
    "              '0': (0, 1)\n",
    "              }"
   ]
  },
  {
   "cell_type": "code",
   "execution_count": 183,
   "metadata": {},
   "outputs": [],
   "source": [
    "all_points = 0\n",
    "coordinates = [start]\n",
    "current_point = start\n",
    "for line in lines:\n",
    "    dir = directions[line[0]]\n",
    "    length = int(line[1])\n",
    "    new_edge = (current_point[0]+length*dir[0], current_point[1]+length*dir[1])\n",
    "    if new_edge not in coordinates:\n",
    "        coordinates.append(new_edge)\n",
    "    current_point = new_edge    \n",
    "    all_points = all_points + length\n"
   ]
  },
  {
   "cell_type": "code",
   "execution_count": 184,
   "metadata": {},
   "outputs": [],
   "source": [
    "area = shoelace(coordinates)"
   ]
  },
  {
   "cell_type": "code",
   "execution_count": 185,
   "metadata": {},
   "outputs": [
    {
     "data": {
      "text/plain": [
       "63806916814808.0"
      ]
     },
     "execution_count": 185,
     "metadata": {},
     "output_type": "execute_result"
    }
   ],
   "source": [
    "points  = all_points + pick(area, all_points)\n",
    "points"
   ]
  }
 ],
 "metadata": {
  "kernelspec": {
   "display_name": "Python 3",
   "language": "python",
   "name": "python3"
  },
  "language_info": {
   "codemirror_mode": {
    "name": "ipython",
    "version": 3
   },
   "file_extension": ".py",
   "mimetype": "text/x-python",
   "name": "python",
   "nbconvert_exporter": "python",
   "pygments_lexer": "ipython3",
   "version": "3.8.10"
  },
  "orig_nbformat": 4
 },
 "nbformat": 4,
 "nbformat_minor": 2
}
