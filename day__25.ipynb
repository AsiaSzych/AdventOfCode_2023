{
 "cells": [
  {
   "cell_type": "code",
   "execution_count": 48,
   "metadata": {},
   "outputs": [],
   "source": [
    "import networkx as nx\n"
   ]
  },
  {
   "cell_type": "code",
   "execution_count": 49,
   "metadata": {},
   "outputs": [],
   "source": [
    "with open('data_day25.txt') as f:\n",
    "    lines = f.readlines()\n",
    "lines = [line.replace(\"\\n\", '') for line in lines]\n"
   ]
  },
  {
   "cell_type": "code",
   "execution_count": 50,
   "metadata": {},
   "outputs": [],
   "source": [
    "components_graph = nx.Graph()\n",
    "nodes = []\n",
    "for line in lines:\n",
    "    first = line.split(\":\")[0]\n",
    "    rest = line.split(\": \")[1].split(\" \")\n",
    "    nodes.append(first)\n",
    "    nodes = nodes + rest\n",
    "    for second in rest:\n",
    "        components_graph.add_edge(first, second, capacity=1.)\n",
    "\n",
    "# nx.draw(components_graph)"
   ]
  },
  {
   "cell_type": "code",
   "execution_count": 51,
   "metadata": {},
   "outputs": [
    {
     "name": "stdout",
     "output_type": "stream",
     "text": [
      "FOUND 3-nodes cut, answer: 507626 breaking the loop\n"
     ]
    }
   ],
   "source": [
    "nodes = set(nodes)\n",
    "start = nodes.pop()\n",
    "for end in nodes:\n",
    "    min_cut, parts = nx.minimum_cut(components_graph, start, end)\n",
    "    if min_cut==3:\n",
    "        answer = len(parts[0])*len(parts[1])\n",
    "        print(\"FOUND 3-nodes cut, answer:\", answer, \"breaking the loop\")\n",
    "        break"
   ]
  },
  {
   "cell_type": "code",
   "execution_count": null,
   "metadata": {},
   "outputs": [],
   "source": []
  }
 ],
 "metadata": {
  "kernelspec": {
   "display_name": "Python 3",
   "language": "python",
   "name": "python3"
  },
  "language_info": {
   "codemirror_mode": {
    "name": "ipython",
    "version": 3
   },
   "file_extension": ".py",
   "mimetype": "text/x-python",
   "name": "python",
   "nbconvert_exporter": "python",
   "pygments_lexer": "ipython3",
   "version": "3.8.10"
  },
  "orig_nbformat": 4
 },
 "nbformat": 4,
 "nbformat_minor": 2
}
